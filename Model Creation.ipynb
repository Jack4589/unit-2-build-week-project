{
 "cells": [
  {
   "cell_type": "markdown",
   "id": "framed-allen",
   "metadata": {},
   "source": [
    "# Importing dataframe"
   ]
  },
  {
   "cell_type": "code",
   "execution_count": 46,
   "id": "broadband-usage",
   "metadata": {
    "scrolled": true
   },
   "outputs": [
    {
     "data": {
      "text/html": [
       "<div>\n",
       "<style scoped>\n",
       "    .dataframe tbody tr th:only-of-type {\n",
       "        vertical-align: middle;\n",
       "    }\n",
       "\n",
       "    .dataframe tbody tr th {\n",
       "        vertical-align: top;\n",
       "    }\n",
       "\n",
       "    .dataframe thead th {\n",
       "        text-align: right;\n",
       "    }\n",
       "</style>\n",
       "<table border=\"1\" class=\"dataframe\">\n",
       "  <thead>\n",
       "    <tr style=\"text-align: right;\">\n",
       "      <th></th>\n",
       "      <th>Unnamed: 0</th>\n",
       "      <th>id64</th>\n",
       "      <th>bodyId</th>\n",
       "      <th>subType</th>\n",
       "      <th>radius</th>\n",
       "      <th>surfaceTemperature</th>\n",
       "      <th>rotationalPeriod</th>\n",
       "      <th>isMainStar</th>\n",
       "      <th>age</th>\n",
       "      <th>spectralClass</th>\n",
       "      <th>luminosity</th>\n",
       "      <th>absoluteMagnitude</th>\n",
       "      <th>solarMasses</th>\n",
       "      <th>solarRadius</th>\n",
       "    </tr>\n",
       "  </thead>\n",
       "  <tbody>\n",
       "    <tr>\n",
       "      <th>0</th>\n",
       "      <td>1</td>\n",
       "      <td>3.602943e+16</td>\n",
       "      <td>1.0</td>\n",
       "      <td>K (Yellow-Orange) Star</td>\n",
       "      <td>NaN</td>\n",
       "      <td>3715</td>\n",
       "      <td>2.519077</td>\n",
       "      <td>1.0</td>\n",
       "      <td>7344.0</td>\n",
       "      <td>K9</td>\n",
       "      <td>Va</td>\n",
       "      <td>7.578094</td>\n",
       "      <td>0.527344</td>\n",
       "      <td>0.682587</td>\n",
       "    </tr>\n",
       "    <tr>\n",
       "      <th>1</th>\n",
       "      <td>18</td>\n",
       "      <td>1.441158e+17</td>\n",
       "      <td>4.0</td>\n",
       "      <td>L (Brown dwarf) Star</td>\n",
       "      <td>NaN</td>\n",
       "      <td>1766</td>\n",
       "      <td>1.221851</td>\n",
       "      <td>0.0</td>\n",
       "      <td>7344.0</td>\n",
       "      <td>L3</td>\n",
       "      <td>V</td>\n",
       "      <td>12.594940</td>\n",
       "      <td>0.152344</td>\n",
       "      <td>0.299896</td>\n",
       "    </tr>\n",
       "    <tr>\n",
       "      <th>2</th>\n",
       "      <td>19</td>\n",
       "      <td>1.080870e+17</td>\n",
       "      <td>3.0</td>\n",
       "      <td>M (Red dwarf) Star</td>\n",
       "      <td>NaN</td>\n",
       "      <td>2882</td>\n",
       "      <td>1.542847</td>\n",
       "      <td>0.0</td>\n",
       "      <td>7344.0</td>\n",
       "      <td>M4</td>\n",
       "      <td>Va</td>\n",
       "      <td>9.608398</td>\n",
       "      <td>0.289063</td>\n",
       "      <td>0.445374</td>\n",
       "    </tr>\n",
       "    <tr>\n",
       "      <th>3</th>\n",
       "      <td>33</td>\n",
       "      <td>5.933759e+11</td>\n",
       "      <td>0.0</td>\n",
       "      <td>M (Red dwarf) Star</td>\n",
       "      <td>NaN</td>\n",
       "      <td>2557</td>\n",
       "      <td>2.024965</td>\n",
       "      <td>1.0</td>\n",
       "      <td>2346.0</td>\n",
       "      <td>M6</td>\n",
       "      <td>Va</td>\n",
       "      <td>10.133820</td>\n",
       "      <td>0.269531</td>\n",
       "      <td>0.444214</td>\n",
       "    </tr>\n",
       "    <tr>\n",
       "      <th>4</th>\n",
       "      <td>57</td>\n",
       "      <td>1.495791e+14</td>\n",
       "      <td>0.0</td>\n",
       "      <td>F (White) Star</td>\n",
       "      <td>NaN</td>\n",
       "      <td>6594</td>\n",
       "      <td>2.192743</td>\n",
       "      <td>1.0</td>\n",
       "      <td>244.0</td>\n",
       "      <td>F6</td>\n",
       "      <td>Vab</td>\n",
       "      <td>3.810394</td>\n",
       "      <td>1.390625</td>\n",
       "      <td>1.227814</td>\n",
       "    </tr>\n",
       "  </tbody>\n",
       "</table>\n",
       "</div>"
      ],
      "text/plain": [
       "   Unnamed: 0          id64  bodyId                 subType  radius  \\\n",
       "0           1  3.602943e+16     1.0  K (Yellow-Orange) Star     NaN   \n",
       "1          18  1.441158e+17     4.0    L (Brown dwarf) Star     NaN   \n",
       "2          19  1.080870e+17     3.0      M (Red dwarf) Star     NaN   \n",
       "3          33  5.933759e+11     0.0      M (Red dwarf) Star     NaN   \n",
       "4          57  1.495791e+14     0.0          F (White) Star     NaN   \n",
       "\n",
       "   surfaceTemperature  rotationalPeriod  isMainStar     age spectralClass  \\\n",
       "0                3715          2.519077         1.0  7344.0            K9   \n",
       "1                1766          1.221851         0.0  7344.0            L3   \n",
       "2                2882          1.542847         0.0  7344.0            M4   \n",
       "3                2557          2.024965         1.0  2346.0            M6   \n",
       "4                6594          2.192743         1.0   244.0            F6   \n",
       "\n",
       "  luminosity  absoluteMagnitude  solarMasses  solarRadius  \n",
       "0         Va           7.578094     0.527344     0.682587  \n",
       "1          V          12.594940     0.152344     0.299896  \n",
       "2         Va           9.608398     0.289063     0.445374  \n",
       "3         Va          10.133820     0.269531     0.444214  \n",
       "4        Vab           3.810394     1.390625     1.227814  "
      ]
     },
     "execution_count": 46,
     "metadata": {},
     "output_type": "execute_result"
    }
   ],
   "source": [
    "import pandas as pd\n",
    "from category_encoders import OrdinalEncoder\n",
    "from sklearn.ensemble import RandomForestClassifier\n",
    "from sklearn.model_selection import cross_val_score\n",
    "from sklearn.pipeline import make_pipeline\n",
    "from sklearn.model_selection import train_test_split\n",
    "from sklearn.metrics import plot_confusion_matrix\n",
    "\n",
    "datapath = r'C:\\Users\\selby\\Documents\\Jupyter\\Build Week Project\\trimmed.csv'\n",
    "\n",
    "df = pd.read_csv(datapath)\n",
    "\n",
    "df.head()"
   ]
  },
  {
   "cell_type": "code",
   "execution_count": 47,
   "id": "divided-broad",
   "metadata": {
    "scrolled": false
   },
   "outputs": [
    {
     "name": "stdout",
     "output_type": "stream",
     "text": [
      "Index(['Unnamed: 0', 'id64', 'bodyId', 'subType', 'radius',\n",
      "       'surfaceTemperature', 'rotationalPeriod', 'isMainStar', 'age',\n",
      "       'spectralClass', 'luminosity', 'absoluteMagnitude', 'solarMasses',\n",
      "       'solarRadius'],\n",
      "      dtype='object')\n"
     ]
    }
   ],
   "source": [
    "print(df.columns)"
   ]
  },
  {
   "cell_type": "markdown",
   "id": "parallel-conference",
   "metadata": {},
   "source": [
    "## Dropping unnessesary columns and spectralClass, which would have caused leakage."
   ]
  },
  {
   "cell_type": "code",
   "execution_count": 48,
   "id": "color-license",
   "metadata": {},
   "outputs": [],
   "source": [
    "df.drop(df[['Unnamed: 0', 'id64', 'bodyId','radius','spectralClass']],axis=1,inplace=True)"
   ]
  },
  {
   "cell_type": "code",
   "execution_count": 49,
   "id": "coral-southeast",
   "metadata": {
    "scrolled": true
   },
   "outputs": [
    {
     "data": {
      "text/plain": [
       "array(['K (Yellow-Orange) Star', 'L (Brown dwarf) Star',\n",
       "       'M (Red dwarf) Star', 'F (White) Star', 'A (Blue-White) Star',\n",
       "       'Neutron Star', 'G (White-Yellow) Star', 'Y (Brown dwarf) Star',\n",
       "       'T (Brown dwarf) Star', 'T Tauri Star', 'White Dwarf (DC) Star',\n",
       "       'B (Blue-White) Star', 'K (Yellow-Orange giant) Star',\n",
       "       'Herbig Ae/Be Star', 'A (Blue-White super giant) Star',\n",
       "       'O (Blue-White) Star', 'M (Red giant) Star', 'Black Hole',\n",
       "       'White Dwarf (DA) Star', 'White Dwarf (DAB) Star',\n",
       "       'White Dwarf (DCV) Star', 'White Dwarf (DAV) Star', 'MS-type Star',\n",
       "       'S-type Star', 'B (Blue-White super giant) Star', 'CN Star',\n",
       "       'White Dwarf (DB) Star', 'Wolf-Rayet C Star',\n",
       "       'White Dwarf (DBV) Star', 'Wolf-Rayet O Star', 'Wolf-Rayet N Star',\n",
       "       'G (White-Yellow super giant) Star', 'CJ Star',\n",
       "       'Wolf-Rayet NC Star', 'F (White super giant) Star',\n",
       "       'White Dwarf (DAZ) Star', 'M (Red super giant) Star'], dtype=object)"
      ]
     },
     "execution_count": 49,
     "metadata": {},
     "output_type": "execute_result"
    }
   ],
   "source": [
    "df['subType'].unique()"
   ]
  },
  {
   "cell_type": "markdown",
   "id": "thousand-potter",
   "metadata": {},
   "source": [
    "# Writing a function to create a dataframe including only main sequence stars."
   ]
  },
  {
   "cell_type": "code",
   "execution_count": 50,
   "id": "billion-movie",
   "metadata": {},
   "outputs": [],
   "source": [
    "main = ['M (Red dwarf) Star',\n",
    "        'O (Blue-White) Star',\n",
    "        'A (Blue-White) Star',\n",
    "        'B (Blue-White) Star',\n",
    "        'F (White) Star',\n",
    "        'K (Yellow-Orange) Star',\n",
    "        'G (White-Yellow) Star',\n",
    "        'A (Blue-White super giant) Star',\n",
    "        'M (Red giant) Star',\n",
    "        'B (Blue-White super giant) Star',\n",
    "        'G (White-Yellow super giant) Star',\n",
    "        'F (White super giant) Star',\n",
    "        'M (Red super giant) Star']\n",
    "\n",
    "def subType(x):\n",
    "    if x in main:\n",
    "        return 1\n",
    "    else:\n",
    "        return 0\n",
    "    \n",
    "\n",
    "df['category'] = df['subType'].apply(subType)\n",
    "\n",
    "df = df[df['category'] == 1]\n",
    "df.drop(columns='category',inplace=True)\n",
    "df.dropna(inplace=True)"
   ]
  },
  {
   "cell_type": "code",
   "execution_count": 51,
   "id": "coated-breach",
   "metadata": {},
   "outputs": [
    {
     "data": {
      "text/plain": [
       "(412786, 9)"
      ]
     },
     "execution_count": 51,
     "metadata": {},
     "output_type": "execute_result"
    }
   ],
   "source": [
    "df.shape"
   ]
  },
  {
   "cell_type": "code",
   "execution_count": 52,
   "id": "distant-nudist",
   "metadata": {
    "scrolled": false
   },
   "outputs": [
    {
     "data": {
      "text/html": [
       "<div>\n",
       "<style scoped>\n",
       "    .dataframe tbody tr th:only-of-type {\n",
       "        vertical-align: middle;\n",
       "    }\n",
       "\n",
       "    .dataframe tbody tr th {\n",
       "        vertical-align: top;\n",
       "    }\n",
       "\n",
       "    .dataframe thead th {\n",
       "        text-align: right;\n",
       "    }\n",
       "</style>\n",
       "<table border=\"1\" class=\"dataframe\">\n",
       "  <thead>\n",
       "    <tr style=\"text-align: right;\">\n",
       "      <th></th>\n",
       "      <th>subType</th>\n",
       "      <th>surfaceTemperature</th>\n",
       "      <th>rotationalPeriod</th>\n",
       "      <th>isMainStar</th>\n",
       "      <th>age</th>\n",
       "      <th>luminosity</th>\n",
       "      <th>absoluteMagnitude</th>\n",
       "      <th>solarMasses</th>\n",
       "      <th>solarRadius</th>\n",
       "    </tr>\n",
       "  </thead>\n",
       "  <tbody>\n",
       "    <tr>\n",
       "      <th>0</th>\n",
       "      <td>K (Yellow-Orange) Star</td>\n",
       "      <td>3715</td>\n",
       "      <td>2.519077</td>\n",
       "      <td>1.0</td>\n",
       "      <td>7344.0</td>\n",
       "      <td>Va</td>\n",
       "      <td>7.578094</td>\n",
       "      <td>0.527344</td>\n",
       "      <td>0.682587</td>\n",
       "    </tr>\n",
       "    <tr>\n",
       "      <th>2</th>\n",
       "      <td>M (Red dwarf) Star</td>\n",
       "      <td>2882</td>\n",
       "      <td>1.542847</td>\n",
       "      <td>0.0</td>\n",
       "      <td>7344.0</td>\n",
       "      <td>Va</td>\n",
       "      <td>9.608398</td>\n",
       "      <td>0.289063</td>\n",
       "      <td>0.445374</td>\n",
       "    </tr>\n",
       "    <tr>\n",
       "      <th>3</th>\n",
       "      <td>M (Red dwarf) Star</td>\n",
       "      <td>2557</td>\n",
       "      <td>2.024965</td>\n",
       "      <td>1.0</td>\n",
       "      <td>2346.0</td>\n",
       "      <td>Va</td>\n",
       "      <td>10.133820</td>\n",
       "      <td>0.269531</td>\n",
       "      <td>0.444214</td>\n",
       "    </tr>\n",
       "    <tr>\n",
       "      <th>4</th>\n",
       "      <td>F (White) Star</td>\n",
       "      <td>6594</td>\n",
       "      <td>2.192743</td>\n",
       "      <td>1.0</td>\n",
       "      <td>244.0</td>\n",
       "      <td>Vab</td>\n",
       "      <td>3.810394</td>\n",
       "      <td>1.390625</td>\n",
       "      <td>1.227814</td>\n",
       "    </tr>\n",
       "    <tr>\n",
       "      <th>5</th>\n",
       "      <td>M (Red dwarf) Star</td>\n",
       "      <td>2457</td>\n",
       "      <td>1.938148</td>\n",
       "      <td>0.0</td>\n",
       "      <td>4290.0</td>\n",
       "      <td>Va</td>\n",
       "      <td>10.616226</td>\n",
       "      <td>0.250000</td>\n",
       "      <td>0.385284</td>\n",
       "    </tr>\n",
       "  </tbody>\n",
       "</table>\n",
       "</div>"
      ],
      "text/plain": [
       "                  subType  surfaceTemperature  rotationalPeriod  isMainStar  \\\n",
       "0  K (Yellow-Orange) Star                3715          2.519077         1.0   \n",
       "2      M (Red dwarf) Star                2882          1.542847         0.0   \n",
       "3      M (Red dwarf) Star                2557          2.024965         1.0   \n",
       "4          F (White) Star                6594          2.192743         1.0   \n",
       "5      M (Red dwarf) Star                2457          1.938148         0.0   \n",
       "\n",
       "      age luminosity  absoluteMagnitude  solarMasses  solarRadius  \n",
       "0  7344.0         Va           7.578094     0.527344     0.682587  \n",
       "2  7344.0         Va           9.608398     0.289063     0.445374  \n",
       "3  2346.0         Va          10.133820     0.269531     0.444214  \n",
       "4   244.0        Vab           3.810394     1.390625     1.227814  \n",
       "5  4290.0         Va          10.616226     0.250000     0.385284  "
      ]
     },
     "execution_count": 52,
     "metadata": {},
     "output_type": "execute_result"
    }
   ],
   "source": [
    "df.head()"
   ]
  },
  {
   "cell_type": "code",
   "execution_count": 53,
   "id": "vocational-atlantic",
   "metadata": {
    "scrolled": true
   },
   "outputs": [
    {
     "name": "stdout",
     "output_type": "stream",
     "text": [
      "<class 'pandas.core.frame.DataFrame'>\n",
      "Int64Index: 412786 entries, 0 to 549541\n",
      "Data columns (total 9 columns):\n",
      " #   Column              Non-Null Count   Dtype  \n",
      "---  ------              --------------   -----  \n",
      " 0   subType             412786 non-null  object \n",
      " 1   surfaceTemperature  412786 non-null  int64  \n",
      " 2   rotationalPeriod    412786 non-null  float64\n",
      " 3   isMainStar          412786 non-null  float64\n",
      " 4   age                 412786 non-null  float64\n",
      " 5   luminosity          412786 non-null  object \n",
      " 6   absoluteMagnitude   412786 non-null  float64\n",
      " 7   solarMasses         412786 non-null  float64\n",
      " 8   solarRadius         412786 non-null  float64\n",
      "dtypes: float64(6), int64(1), object(2)\n",
      "memory usage: 31.5+ MB\n"
     ]
    }
   ],
   "source": [
    "df.info()"
   ]
  },
  {
   "cell_type": "code",
   "execution_count": 54,
   "id": "sitting-samoa",
   "metadata": {
    "scrolled": true
   },
   "outputs": [
    {
     "data": {
      "text/plain": [
       "array(['K (Yellow-Orange) Star', 'M (Red dwarf) Star', 'F (White) Star',\n",
       "       'A (Blue-White) Star', 'G (White-Yellow) Star',\n",
       "       'B (Blue-White) Star', 'A (Blue-White super giant) Star',\n",
       "       'O (Blue-White) Star', 'M (Red giant) Star',\n",
       "       'B (Blue-White super giant) Star',\n",
       "       'G (White-Yellow super giant) Star', 'F (White super giant) Star',\n",
       "       'M (Red super giant) Star'], dtype=object)"
      ]
     },
     "execution_count": 54,
     "metadata": {},
     "output_type": "execute_result"
    }
   ],
   "source": [
    "df['subType'].unique()"
   ]
  },
  {
   "cell_type": "markdown",
   "id": "solid-slope",
   "metadata": {},
   "source": [
    "### Creating a profile report for the dataset"
   ]
  },
  {
   "cell_type": "code",
   "execution_count": 55,
   "id": "viral-williams",
   "metadata": {},
   "outputs": [],
   "source": [
    "from pandas_profiling import ProfileReport\n",
    "\n",
    "profile = ProfileReport(df,title='Star Data Report')"
   ]
  },
  {
   "cell_type": "code",
   "execution_count": 56,
   "id": "italian-specialist",
   "metadata": {
    "scrolled": true
   },
   "outputs": [],
   "source": [
    "# Uncomment to see DataFrame report\n",
    "\n",
    "# profile.to_widgets()"
   ]
  },
  {
   "cell_type": "code",
   "execution_count": 57,
   "id": "organizational-vegetable",
   "metadata": {},
   "outputs": [],
   "source": [
    "df['subType'] = df['subType'].str.split(' ',1).str[0]"
   ]
  },
  {
   "cell_type": "code",
   "execution_count": 58,
   "id": "stupid-nudist",
   "metadata": {
    "scrolled": false
   },
   "outputs": [
    {
     "data": {
      "text/html": [
       "<div>\n",
       "<style scoped>\n",
       "    .dataframe tbody tr th:only-of-type {\n",
       "        vertical-align: middle;\n",
       "    }\n",
       "\n",
       "    .dataframe tbody tr th {\n",
       "        vertical-align: top;\n",
       "    }\n",
       "\n",
       "    .dataframe thead th {\n",
       "        text-align: right;\n",
       "    }\n",
       "</style>\n",
       "<table border=\"1\" class=\"dataframe\">\n",
       "  <thead>\n",
       "    <tr style=\"text-align: right;\">\n",
       "      <th></th>\n",
       "      <th>subType</th>\n",
       "      <th>surfaceTemperature</th>\n",
       "      <th>rotationalPeriod</th>\n",
       "      <th>isMainStar</th>\n",
       "      <th>age</th>\n",
       "      <th>luminosity</th>\n",
       "      <th>absoluteMagnitude</th>\n",
       "      <th>solarMasses</th>\n",
       "      <th>solarRadius</th>\n",
       "    </tr>\n",
       "  </thead>\n",
       "  <tbody>\n",
       "    <tr>\n",
       "      <th>0</th>\n",
       "      <td>K</td>\n",
       "      <td>3715</td>\n",
       "      <td>2.519077</td>\n",
       "      <td>1.0</td>\n",
       "      <td>7344.0</td>\n",
       "      <td>Va</td>\n",
       "      <td>7.578094</td>\n",
       "      <td>0.527344</td>\n",
       "      <td>0.682587</td>\n",
       "    </tr>\n",
       "    <tr>\n",
       "      <th>2</th>\n",
       "      <td>M</td>\n",
       "      <td>2882</td>\n",
       "      <td>1.542847</td>\n",
       "      <td>0.0</td>\n",
       "      <td>7344.0</td>\n",
       "      <td>Va</td>\n",
       "      <td>9.608398</td>\n",
       "      <td>0.289063</td>\n",
       "      <td>0.445374</td>\n",
       "    </tr>\n",
       "    <tr>\n",
       "      <th>3</th>\n",
       "      <td>M</td>\n",
       "      <td>2557</td>\n",
       "      <td>2.024965</td>\n",
       "      <td>1.0</td>\n",
       "      <td>2346.0</td>\n",
       "      <td>Va</td>\n",
       "      <td>10.133820</td>\n",
       "      <td>0.269531</td>\n",
       "      <td>0.444214</td>\n",
       "    </tr>\n",
       "    <tr>\n",
       "      <th>4</th>\n",
       "      <td>F</td>\n",
       "      <td>6594</td>\n",
       "      <td>2.192743</td>\n",
       "      <td>1.0</td>\n",
       "      <td>244.0</td>\n",
       "      <td>Vab</td>\n",
       "      <td>3.810394</td>\n",
       "      <td>1.390625</td>\n",
       "      <td>1.227814</td>\n",
       "    </tr>\n",
       "    <tr>\n",
       "      <th>5</th>\n",
       "      <td>M</td>\n",
       "      <td>2457</td>\n",
       "      <td>1.938148</td>\n",
       "      <td>0.0</td>\n",
       "      <td>4290.0</td>\n",
       "      <td>Va</td>\n",
       "      <td>10.616226</td>\n",
       "      <td>0.250000</td>\n",
       "      <td>0.385284</td>\n",
       "    </tr>\n",
       "  </tbody>\n",
       "</table>\n",
       "</div>"
      ],
      "text/plain": [
       "  subType  surfaceTemperature  rotationalPeriod  isMainStar     age  \\\n",
       "0       K                3715          2.519077         1.0  7344.0   \n",
       "2       M                2882          1.542847         0.0  7344.0   \n",
       "3       M                2557          2.024965         1.0  2346.0   \n",
       "4       F                6594          2.192743         1.0   244.0   \n",
       "5       M                2457          1.938148         0.0  4290.0   \n",
       "\n",
       "  luminosity  absoluteMagnitude  solarMasses  solarRadius  \n",
       "0         Va           7.578094     0.527344     0.682587  \n",
       "2         Va           9.608398     0.289063     0.445374  \n",
       "3         Va          10.133820     0.269531     0.444214  \n",
       "4        Vab           3.810394     1.390625     1.227814  \n",
       "5         Va          10.616226     0.250000     0.385284  "
      ]
     },
     "execution_count": 58,
     "metadata": {},
     "output_type": "execute_result"
    }
   ],
   "source": [
    "df.head()"
   ]
  },
  {
   "cell_type": "markdown",
   "id": "temporal-order",
   "metadata": {},
   "source": [
    "# Establishing Baseline"
   ]
  },
  {
   "cell_type": "code",
   "execution_count": 59,
   "id": "parliamentary-logan",
   "metadata": {
    "scrolled": true
   },
   "outputs": [
    {
     "data": {
      "text/plain": [
       "M    0.489174\n",
       "K    0.250062\n",
       "F    0.107082\n",
       "G    0.083976\n",
       "A    0.052691\n",
       "B    0.015303\n",
       "O    0.001713\n",
       "Name: subType, dtype: float64"
      ]
     },
     "execution_count": 59,
     "metadata": {},
     "output_type": "execute_result"
    }
   ],
   "source": [
    "df['subType'].value_counts(normalize=True)"
   ]
  },
  {
   "cell_type": "markdown",
   "id": "split-surrey",
   "metadata": {},
   "source": [
    "## Creating Target vector and feature matrix, then spliting matrix into training, validation, and testing sets"
   ]
  },
  {
   "cell_type": "code",
   "execution_count": 60,
   "id": "premium-plate",
   "metadata": {},
   "outputs": [],
   "source": [
    "target = 'subType'\n",
    "\n",
    "y = df[target]\n",
    "X = df.drop(columns=target)"
   ]
  },
  {
   "cell_type": "code",
   "execution_count": 61,
   "id": "exterior-night",
   "metadata": {},
   "outputs": [],
   "source": [
    "X_train, X_test, y_train, y_test = train_test_split(X,y,test_size=0.2,random_state=42)"
   ]
  },
  {
   "cell_type": "code",
   "execution_count": 62,
   "id": "regular-price",
   "metadata": {},
   "outputs": [],
   "source": [
    "X_train, X_val, y_train, y_val = train_test_split(X_train,y_train,test_size=0.25,random_state=42)"
   ]
  },
  {
   "cell_type": "code",
   "execution_count": 63,
   "id": "posted-range",
   "metadata": {
    "scrolled": true
   },
   "outputs": [
    {
     "data": {
      "text/html": [
       "<div>\n",
       "<style scoped>\n",
       "    .dataframe tbody tr th:only-of-type {\n",
       "        vertical-align: middle;\n",
       "    }\n",
       "\n",
       "    .dataframe tbody tr th {\n",
       "        vertical-align: top;\n",
       "    }\n",
       "\n",
       "    .dataframe thead th {\n",
       "        text-align: right;\n",
       "    }\n",
       "</style>\n",
       "<table border=\"1\" class=\"dataframe\">\n",
       "  <thead>\n",
       "    <tr style=\"text-align: right;\">\n",
       "      <th></th>\n",
       "      <th>surfaceTemperature</th>\n",
       "      <th>rotationalPeriod</th>\n",
       "      <th>isMainStar</th>\n",
       "      <th>age</th>\n",
       "      <th>luminosity</th>\n",
       "      <th>absoluteMagnitude</th>\n",
       "      <th>solarMasses</th>\n",
       "      <th>solarRadius</th>\n",
       "    </tr>\n",
       "  </thead>\n",
       "  <tbody>\n",
       "    <tr>\n",
       "      <th>372124</th>\n",
       "      <td>6282</td>\n",
       "      <td>6.213729</td>\n",
       "      <td>1.0</td>\n",
       "      <td>2090.0</td>\n",
       "      <td>Vb</td>\n",
       "      <td>4.281921</td>\n",
       "      <td>1.121094</td>\n",
       "      <td>1.088806</td>\n",
       "    </tr>\n",
       "    <tr>\n",
       "      <th>43442</th>\n",
       "      <td>14527</td>\n",
       "      <td>1.000007</td>\n",
       "      <td>1.0</td>\n",
       "      <td>166.0</td>\n",
       "      <td>Vz</td>\n",
       "      <td>-1.098831</td>\n",
       "      <td>4.574219</td>\n",
       "      <td>2.424896</td>\n",
       "    </tr>\n",
       "    <tr>\n",
       "      <th>225781</th>\n",
       "      <td>5708</td>\n",
       "      <td>4.288684</td>\n",
       "      <td>1.0</td>\n",
       "      <td>12860.0</td>\n",
       "      <td>Vab</td>\n",
       "      <td>4.881897</td>\n",
       "      <td>0.894531</td>\n",
       "      <td>1.000488</td>\n",
       "    </tr>\n",
       "    <tr>\n",
       "      <th>465971</th>\n",
       "      <td>4402</td>\n",
       "      <td>3.296774</td>\n",
       "      <td>1.0</td>\n",
       "      <td>1480.0</td>\n",
       "      <td>Va</td>\n",
       "      <td>6.445297</td>\n",
       "      <td>0.683594</td>\n",
       "      <td>0.819000</td>\n",
       "    </tr>\n",
       "    <tr>\n",
       "      <th>193257</th>\n",
       "      <td>4343</td>\n",
       "      <td>4.577268</td>\n",
       "      <td>0.0</td>\n",
       "      <td>1530.0</td>\n",
       "      <td>Va</td>\n",
       "      <td>6.744339</td>\n",
       "      <td>0.597656</td>\n",
       "      <td>0.733185</td>\n",
       "    </tr>\n",
       "  </tbody>\n",
       "</table>\n",
       "</div>"
      ],
      "text/plain": [
       "        surfaceTemperature  rotationalPeriod  isMainStar      age luminosity  \\\n",
       "372124                6282          6.213729         1.0   2090.0         Vb   \n",
       "43442                14527          1.000007         1.0    166.0         Vz   \n",
       "225781                5708          4.288684         1.0  12860.0        Vab   \n",
       "465971                4402          3.296774         1.0   1480.0         Va   \n",
       "193257                4343          4.577268         0.0   1530.0         Va   \n",
       "\n",
       "        absoluteMagnitude  solarMasses  solarRadius  \n",
       "372124           4.281921     1.121094     1.088806  \n",
       "43442           -1.098831     4.574219     2.424896  \n",
       "225781           4.881897     0.894531     1.000488  \n",
       "465971           6.445297     0.683594     0.819000  \n",
       "193257           6.744339     0.597656     0.733185  "
      ]
     },
     "execution_count": 63,
     "metadata": {},
     "output_type": "execute_result"
    }
   ],
   "source": [
    "X_train.head()"
   ]
  },
  {
   "cell_type": "markdown",
   "id": "motivated-nickel",
   "metadata": {},
   "source": [
    "### Linear Model"
   ]
  },
  {
   "cell_type": "code",
   "execution_count": 64,
   "id": "cardiovascular-hopkins",
   "metadata": {},
   "outputs": [],
   "source": [
    "from sklearn.multiclass import OneVsRestClassifier\n",
    "from sklearn.linear_model import SGDClassifier\n",
    "\n",
    "model_l = make_pipeline(\n",
    "    OrdinalEncoder(),\n",
    "    OneVsRestClassifier(SGDClassifier(alpha=0.00001,\n",
    "                                      n_jobs=-1,\n",
    "                                      random_state=42,\n",
    "                                     shuffle=True),\n",
    "                        n_jobs=-1)\n",
    "    )\n",
    "\n",
    "model_l.fit(X_train,y_train);"
   ]
  },
  {
   "cell_type": "code",
   "execution_count": 65,
   "id": "peripheral-grenada",
   "metadata": {
    "scrolled": false
   },
   "outputs": [
    {
     "name": "stdout",
     "output_type": "stream",
     "text": [
      "OVR Training set score: 0.6788521869738484\n",
      "OVR Validation set score: 0.6758360890051722\n"
     ]
    }
   ],
   "source": [
    "print('OVR Training set score:',model_l.score(X_train,y_train))\n",
    "print('OVR Validation set score:',model_l.score(X_val,y_val))"
   ]
  },
  {
   "cell_type": "markdown",
   "id": "eleven-complement",
   "metadata": {},
   "source": [
    "### Gradient Boosting model"
   ]
  },
  {
   "cell_type": "code",
   "execution_count": 66,
   "id": "automatic-playback",
   "metadata": {},
   "outputs": [
    {
     "name": "stderr",
     "output_type": "stream",
     "text": [
      "c:\\users\\selby\\.virtualenvs\\jupyter-ynzyqaev\\lib\\site-packages\\xgboost\\sklearn.py:888: UserWarning: The use of label encoder in XGBClassifier is deprecated and will be removed in a future release. To remove this warning, do the following: 1) Pass option use_label_encoder=False when constructing XGBClassifier object; and 2) Encode your labels (y) as integers starting with 0, i.e. 0, 1, 2, ..., [num_class - 1].\n",
      "  warnings.warn(label_encoder_deprecation_msg, UserWarning)\n"
     ]
    },
    {
     "name": "stdout",
     "output_type": "stream",
     "text": [
      "[11:54:49] WARNING: C:/Users/Administrator/workspace/xgboost-win64_release_1.3.0/src/learner.cc:1061: Starting in XGBoost 1.3.0, the default evaluation metric used with the objective 'multi:softprob' was changed from 'merror' to 'mlogloss'. Explicitly set eval_metric if you'd like to restore the old behavior.\n"
     ]
    }
   ],
   "source": [
    "from xgboost import XGBClassifier\n",
    "\n",
    "model_x = make_pipeline(\n",
    "    OrdinalEncoder(),\n",
    "    XGBClassifier()\n",
    "    )\n",
    "\n",
    "model_x.fit(X_train,y_train);"
   ]
  },
  {
   "cell_type": "code",
   "execution_count": 67,
   "id": "broken-accuracy",
   "metadata": {
    "scrolled": false
   },
   "outputs": [
    {
     "name": "stdout",
     "output_type": "stream",
     "text": [
      "XGB Training set score: 1.0\n",
      "XGB Validation set score: 0.9999878871567524\n"
     ]
    }
   ],
   "source": [
    "print('XGB Training set score:',model_x.score(X_train,y_train))\n",
    "print('XGB Validation set score:',model_x.score(X_val,y_val))"
   ]
  },
  {
   "cell_type": "markdown",
   "id": "worth-genome",
   "metadata": {},
   "source": [
    "# Final testing score"
   ]
  },
  {
   "cell_type": "code",
   "execution_count": 68,
   "id": "comparative-teach",
   "metadata": {},
   "outputs": [
    {
     "name": "stdout",
     "output_type": "stream",
     "text": [
      "XGB model testing data score: 0.999975774606943\n"
     ]
    }
   ],
   "source": [
    "from sklearn.metrics import accuracy_score\n",
    "\n",
    "y_pred_x = model_x.predict(X_test)\n",
    "\n",
    "print('XGB model testing data score:',accuracy_score(y_pred_x,y_test))"
   ]
  },
  {
   "cell_type": "markdown",
   "id": "dangerous-tuesday",
   "metadata": {},
   "source": [
    "# Just for fun, permutation importances"
   ]
  },
  {
   "cell_type": "code",
   "execution_count": 69,
   "id": "optional-adapter",
   "metadata": {},
   "outputs": [
    {
     "data": {
      "text/html": [
       "<div>\n",
       "<style scoped>\n",
       "    .dataframe tbody tr th:only-of-type {\n",
       "        vertical-align: middle;\n",
       "    }\n",
       "\n",
       "    .dataframe tbody tr th {\n",
       "        vertical-align: top;\n",
       "    }\n",
       "\n",
       "    .dataframe thead th {\n",
       "        text-align: right;\n",
       "    }\n",
       "</style>\n",
       "<table border=\"1\" class=\"dataframe\">\n",
       "  <thead>\n",
       "    <tr style=\"text-align: right;\">\n",
       "      <th></th>\n",
       "      <th>Mean Importance</th>\n",
       "      <th>Standard Deviation</th>\n",
       "    </tr>\n",
       "  </thead>\n",
       "  <tbody>\n",
       "    <tr>\n",
       "      <th>surfaceTemperature</th>\n",
       "      <td>0.678249</td>\n",
       "      <td>0.000967</td>\n",
       "    </tr>\n",
       "    <tr>\n",
       "      <th>rotationalPeriod</th>\n",
       "      <td>0.000029</td>\n",
       "      <td>0.000010</td>\n",
       "    </tr>\n",
       "    <tr>\n",
       "      <th>isMainStar</th>\n",
       "      <td>0.000000</td>\n",
       "      <td>0.000000</td>\n",
       "    </tr>\n",
       "    <tr>\n",
       "      <th>age</th>\n",
       "      <td>0.000012</td>\n",
       "      <td>0.000000</td>\n",
       "    </tr>\n",
       "    <tr>\n",
       "      <th>luminosity</th>\n",
       "      <td>0.000012</td>\n",
       "      <td>0.000000</td>\n",
       "    </tr>\n",
       "    <tr>\n",
       "      <th>absoluteMagnitude</th>\n",
       "      <td>0.000501</td>\n",
       "      <td>0.000058</td>\n",
       "    </tr>\n",
       "    <tr>\n",
       "      <th>solarMasses</th>\n",
       "      <td>0.000000</td>\n",
       "      <td>0.000000</td>\n",
       "    </tr>\n",
       "    <tr>\n",
       "      <th>solarRadius</th>\n",
       "      <td>0.000000</td>\n",
       "      <td>0.000000</td>\n",
       "    </tr>\n",
       "  </tbody>\n",
       "</table>\n",
       "</div>"
      ],
      "text/plain": [
       "                    Mean Importance  Standard Deviation\n",
       "surfaceTemperature         0.678249            0.000967\n",
       "rotationalPeriod           0.000029            0.000010\n",
       "isMainStar                 0.000000            0.000000\n",
       "age                        0.000012            0.000000\n",
       "luminosity                 0.000012            0.000000\n",
       "absoluteMagnitude          0.000501            0.000058\n",
       "solarMasses                0.000000            0.000000\n",
       "solarRadius                0.000000            0.000000"
      ]
     },
     "execution_count": 69,
     "metadata": {},
     "output_type": "execute_result"
    }
   ],
   "source": [
    "from sklearn.inspection import permutation_importance\n",
    "from matplotlib import pyplot as plt\n",
    "\n",
    "perm_importance = permutation_importance(model_x,X_val,y_val)\n",
    "\n",
    "d = {'Mean Importance': perm_importance['importances_mean'],'Standard Deviation': perm_importance['importances_std']}\n",
    "\n",
    "permutation_importances = pd.DataFrame(data=d,index=X.columns)\n",
    "\n",
    "permutation_importances"
   ]
  }
 ],
 "metadata": {
  "kernelspec": {
   "display_name": "Python 3",
   "language": "python",
   "name": "python3"
  },
  "language_info": {
   "codemirror_mode": {
    "name": "ipython",
    "version": 3
   },
   "file_extension": ".py",
   "mimetype": "text/x-python",
   "name": "python",
   "nbconvert_exporter": "python",
   "pygments_lexer": "ipython3",
   "version": "3.9.1"
  }
 },
 "nbformat": 4,
 "nbformat_minor": 5
}
